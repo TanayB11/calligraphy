{
 "cells": [
  {
   "cell_type": "code",
   "execution_count": 1,
   "metadata": {},
   "outputs": [],
   "source": [
    "from scipy.stats import ttest_ind_from_stats\n",
    "import numpy as np"
   ]
  },
  {
   "cell_type": "code",
   "execution_count": 2,
   "metadata": {},
   "outputs": [
    {
     "data": {
      "text/plain": [
       "(-4.0968187813027965, 2.1906841627445938e-05)"
      ]
     },
     "execution_count": 2,
     "metadata": {},
     "output_type": "execute_result"
    }
   ],
   "source": [
    "# Given values from the perplexity evaluations\n",
    "mean_lora = 6.9580\n",
    "se_lora = 0.06490\n",
    "mean_base = 7.3494\n",
    "se_base = 0.07011\n",
    "n = 875\n",
    "\n",
    "# convert standard errors to stddevs\n",
    "sd_lora = se_lora * np.sqrt(n)\n",
    "sd_base = se_base * np.sqrt(n)\n",
    "\n",
    "# Perform two-sample t-test\n",
    "t_stat, p_value = ttest_ind_from_stats(mean1=mean_lora, std1=sd_lora, nobs1=n,\n",
    "                                       mean2=mean_base, std2=sd_base, nobs2=n,\n",
    "                                       equal_var=False, alternative='less')\n",
    "\n",
    "t_stat, p_value"
   ]
  },
  {
   "cell_type": "code",
   "execution_count": null,
   "metadata": {},
   "outputs": [],
   "source": []
  }
 ],
 "metadata": {
  "kernelspec": {
   "display_name": "env",
   "language": "python",
   "name": "python3"
  },
  "language_info": {
   "codemirror_mode": {
    "name": "ipython",
    "version": 3
   },
   "file_extension": ".py",
   "mimetype": "text/x-python",
   "name": "python",
   "nbconvert_exporter": "python",
   "pygments_lexer": "ipython3",
   "version": "3.8.18"
  }
 },
 "nbformat": 4,
 "nbformat_minor": 2
}
